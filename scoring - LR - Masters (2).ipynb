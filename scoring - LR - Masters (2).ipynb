{
 "cells": [
  {
   "cell_type": "code",
   "execution_count": 1,
   "metadata": {},
   "outputs": [],
   "source": [
    "import os\n",
    "import sys\n",
    "import warnings\n",
    "import pandas as pd\n",
    "import seaborn as sns\n",
    "import matplotlib.pyplot as plt\n",
    "import numpy as np\n",
    "\n",
    "import scipy\n",
    "from scipy import stats\n",
    "\n",
    "import sklearn\n",
    "from sklearn.preprocessing import StandardScaler\n",
    "from sklearn.linear_model import LogisticRegression\n",
    "from sklearn.ensemble import RandomForestClassifier\n",
    "from sklearn.model_selection import train_test_split\n",
    "from sklearn import metrics\n",
    "from sklearn.impute import SimpleImputer\n",
    "\n",
    "warnings.simplefilter('ignore')\n",
    "\n",
    "sns.set(rc={'figure.figsize':(11.7,8.27)})"
   ]
  },
  {
   "cell_type": "code",
   "execution_count": 2,
   "metadata": {
    "scrolled": false
   },
   "outputs": [],
   "source": [
    "dataset = pd.read_csv('PGA_Data_Historical.csv')\n",
    "\n",
    "# df = dataset.set_index(['Player Name', 'Variable', 'Season'])['Value'].unstack('Variable').reset_index()\n",
    "# df1 = df[[\"Player Name\", \"Season\",\"SG: Putting - (TOTAL SG:PUTTING)\"]]\n",
    "\n",
    "# # df_1 = df[[\"Player Name\", \"Season\"]]\n",
    "\n",
    "# df1.head()"
   ]
  },
  {
   "cell_type": "code",
   "execution_count": 3,
   "metadata": {},
   "outputs": [],
   "source": [
    "data = dataset[dataset['Variable'].isin(['SG: Off-the-Tee - (TOTAL SG:OTT)','SG: Approach-the-Green - (TOTAL SG:APP)','SG: Around-the-Green - (TOTAL SG:ARG)','SG: Putting - (TOTAL SG:PUTTING)'])]\n",
    "\n",
    "data['Value'] = pd.to_numeric(data['Value'])"
   ]
  },
  {
   "cell_type": "code",
   "execution_count": 4,
   "metadata": {},
   "outputs": [],
   "source": [
    "pivot = pd.pivot_table(data = data, index = ['Player Name',\"Season\"], columns = 'Variable', values = 'Value')"
   ]
  },
  {
   "cell_type": "code",
   "execution_count": 5,
   "metadata": {},
   "outputs": [
    {
     "data": {
      "text/html": [
       "<div>\n",
       "<style scoped>\n",
       "    .dataframe tbody tr th:only-of-type {\n",
       "        vertical-align: middle;\n",
       "    }\n",
       "\n",
       "    .dataframe tbody tr th {\n",
       "        vertical-align: top;\n",
       "    }\n",
       "\n",
       "    .dataframe thead th {\n",
       "        text-align: right;\n",
       "    }\n",
       "</style>\n",
       "<table border=\"1\" class=\"dataframe\">\n",
       "  <thead>\n",
       "    <tr style=\"text-align: right;\">\n",
       "      <th>Variable</th>\n",
       "      <th>Player Name</th>\n",
       "      <th>Season</th>\n",
       "      <th>SG: Approach-the-Green - (TOTAL SG:APP)</th>\n",
       "      <th>SG: Around-the-Green - (TOTAL SG:ARG)</th>\n",
       "      <th>SG: Off-the-Tee - (TOTAL SG:OTT)</th>\n",
       "      <th>SG: Putting - (TOTAL SG:PUTTING)</th>\n",
       "    </tr>\n",
       "  </thead>\n",
       "  <tbody>\n",
       "    <tr>\n",
       "      <td>0</td>\n",
       "      <td>Aaron Baddeley</td>\n",
       "      <td>2010</td>\n",
       "      <td>-70.141</td>\n",
       "      <td>34.397</td>\n",
       "      <td>9.844</td>\n",
       "      <td>44.202</td>\n",
       "    </tr>\n",
       "    <tr>\n",
       "      <td>1</td>\n",
       "      <td>Aaron Baddeley</td>\n",
       "      <td>2011</td>\n",
       "      <td>12.170</td>\n",
       "      <td>27.152</td>\n",
       "      <td>11.751</td>\n",
       "      <td>20.080</td>\n",
       "    </tr>\n",
       "    <tr>\n",
       "      <td>2</td>\n",
       "      <td>Aaron Baddeley</td>\n",
       "      <td>2012</td>\n",
       "      <td>-27.731</td>\n",
       "      <td>8.343</td>\n",
       "      <td>-5.945</td>\n",
       "      <td>33.197</td>\n",
       "    </tr>\n",
       "    <tr>\n",
       "      <td>3</td>\n",
       "      <td>Adam Scott</td>\n",
       "      <td>2010</td>\n",
       "      <td>60.547</td>\n",
       "      <td>-1.382</td>\n",
       "      <td>24.523</td>\n",
       "      <td>-38.883</td>\n",
       "    </tr>\n",
       "    <tr>\n",
       "      <td>4</td>\n",
       "      <td>Adam Scott</td>\n",
       "      <td>2011</td>\n",
       "      <td>4.603</td>\n",
       "      <td>-0.580</td>\n",
       "      <td>35.670</td>\n",
       "      <td>-11.119</td>\n",
       "    </tr>\n",
       "  </tbody>\n",
       "</table>\n",
       "</div>"
      ],
      "text/plain": [
       "Variable     Player Name  Season  SG: Approach-the-Green - (TOTAL SG:APP)  \\\n",
       "0         Aaron Baddeley    2010                                  -70.141   \n",
       "1         Aaron Baddeley    2011                                   12.170   \n",
       "2         Aaron Baddeley    2012                                  -27.731   \n",
       "3             Adam Scott    2010                                   60.547   \n",
       "4             Adam Scott    2011                                    4.603   \n",
       "\n",
       "Variable  SG: Around-the-Green - (TOTAL SG:ARG)  \\\n",
       "0                                        34.397   \n",
       "1                                        27.152   \n",
       "2                                         8.343   \n",
       "3                                        -1.382   \n",
       "4                                        -0.580   \n",
       "\n",
       "Variable  SG: Off-the-Tee - (TOTAL SG:OTT)  SG: Putting - (TOTAL SG:PUTTING)  \n",
       "0                                    9.844                            44.202  \n",
       "1                                   11.751                            20.080  \n",
       "2                                   -5.945                            33.197  \n",
       "3                                   24.523                           -38.883  \n",
       "4                                   35.670                           -11.119  "
      ]
     },
     "execution_count": 5,
     "metadata": {},
     "output_type": "execute_result"
    }
   ],
   "source": [
    "pivot_index = pivot.reset_index()\n",
    "pivot_index.head()"
   ]
  },
  {
   "cell_type": "code",
   "execution_count": 6,
   "metadata": {},
   "outputs": [
    {
     "data": {
      "text/plain": [
       "Variable\n",
       "Player Name                                569\n",
       "Season                                     569\n",
       "SG: Approach-the-Green - (TOTAL SG:APP)    569\n",
       "SG: Around-the-Green - (TOTAL SG:ARG)      569\n",
       "SG: Off-the-Tee - (TOTAL SG:OTT)           569\n",
       "SG: Putting - (TOTAL SG:PUTTING)           569\n",
       "dtype: int64"
      ]
     },
     "execution_count": 6,
     "metadata": {},
     "output_type": "execute_result"
    }
   ],
   "source": [
    "# print(pivot_index.count())\n",
    "# print(pivot_index.isnull().sum())\n",
    "\n",
    "df_row_merged = pivot_index.dropna()\n",
    "df_row_merged.count()"
   ]
  },
  {
   "cell_type": "markdown",
   "metadata": {},
   "source": [
    "### Merge Data"
   ]
  },
  {
   "cell_type": "code",
   "execution_count": 7,
   "metadata": {},
   "outputs": [],
   "source": [
    "#2010 Top Performers\n",
    "df_row_merged.loc[(df_row_merged['Player Name'] == 'Phil Mickelson') & (df_row_merged['Season'] == 2010), 'Label'] = float(1)\n",
    "df_row_merged.loc[(df_row_merged['Player Name'] == 'Lee Westwood') & (df_row_merged['Season'] == 2010), 'Label'] = float(1)\n",
    "df_row_merged.loc[(df_row_merged['Player Name'] == 'Anthony Kim') & (df_row_merged['Season'] == 2010), 'Label'] = float(1)\n",
    "df_row_merged.loc[(df_row_merged['Player Name'] == 'K.J. Choi') & (df_row_merged['Season'] == 2010), 'Label'] = float(1)\n",
    "df_row_merged.loc[(df_row_merged['Player Name'] == 'Tiger Woods') & (df_row_merged['Season'] == 2010), 'Label'] = float(1)\n",
    "df_row_merged.loc[(df_row_merged['Player Name'] == 'Fred Couples') & (df_row_merged['Season'] == 2010), 'Label'] = float(1)\n",
    "df_row_merged.loc[(df_row_merged['Player Name'] == 'Nick Watney') & (df_row_merged['Season'] == 2010), 'Label'] = float(1)\n",
    "df_row_merged.loc[(df_row_merged['Player Name'] == 'Hunter Mahan') & (df_row_merged['Season'] == 2010), 'Label'] = float(1)\n",
    "df_row_merged.loc[(df_row_merged['Player Name'] == 'Y.E. Yang') & (df_row_merged['Season'] == 2010), 'Label'] = float(1)\n",
    "df_row_merged.loc[(df_row_merged['Player Name'] == 'Ricky Barnes') & (df_row_merged['Season'] == 2010), 'Label'] = float(1)"
   ]
  },
  {
   "cell_type": "code",
   "execution_count": 19,
   "metadata": {},
   "outputs": [
    {
     "data": {
      "text/html": [
       "<div>\n",
       "<style scoped>\n",
       "    .dataframe tbody tr th:only-of-type {\n",
       "        vertical-align: middle;\n",
       "    }\n",
       "\n",
       "    .dataframe tbody tr th {\n",
       "        vertical-align: top;\n",
       "    }\n",
       "\n",
       "    .dataframe thead th {\n",
       "        text-align: right;\n",
       "    }\n",
       "</style>\n",
       "<table border=\"1\" class=\"dataframe\">\n",
       "  <thead>\n",
       "    <tr style=\"text-align: right;\">\n",
       "      <th>Variable</th>\n",
       "      <th>Player Name</th>\n",
       "      <th>Season</th>\n",
       "      <th>SG: Approach-the-Green - (TOTAL SG:APP)</th>\n",
       "      <th>SG: Around-the-Green - (TOTAL SG:ARG)</th>\n",
       "      <th>SG: Off-the-Tee - (TOTAL SG:OTT)</th>\n",
       "      <th>SG: Putting - (TOTAL SG:PUTTING)</th>\n",
       "      <th>Label</th>\n",
       "    </tr>\n",
       "  </thead>\n",
       "  <tbody>\n",
       "    <tr>\n",
       "      <td>219</td>\n",
       "      <td>Hunter Mahan</td>\n",
       "      <td>2010</td>\n",
       "      <td>4.638</td>\n",
       "      <td>-7.708</td>\n",
       "      <td>42.996</td>\n",
       "      <td>4.603</td>\n",
       "      <td>1.0</td>\n",
       "    </tr>\n",
       "    <tr>\n",
       "      <td>310</td>\n",
       "      <td>K.J. Choi</td>\n",
       "      <td>2010</td>\n",
       "      <td>30.948</td>\n",
       "      <td>16.436</td>\n",
       "      <td>9.185</td>\n",
       "      <td>3.475</td>\n",
       "      <td>1.0</td>\n",
       "    </tr>\n",
       "    <tr>\n",
       "      <td>399</td>\n",
       "      <td>Nick Watney</td>\n",
       "      <td>2010</td>\n",
       "      <td>35.706</td>\n",
       "      <td>-20.961</td>\n",
       "      <td>40.889</td>\n",
       "      <td>7.492</td>\n",
       "      <td>1.0</td>\n",
       "    </tr>\n",
       "    <tr>\n",
       "      <td>415</td>\n",
       "      <td>Phil Mickelson</td>\n",
       "      <td>2010</td>\n",
       "      <td>42.069</td>\n",
       "      <td>12.972</td>\n",
       "      <td>10.556</td>\n",
       "      <td>-8.519</td>\n",
       "      <td>1.0</td>\n",
       "    </tr>\n",
       "    <tr>\n",
       "      <td>428</td>\n",
       "      <td>Ricky Barnes</td>\n",
       "      <td>2010</td>\n",
       "      <td>56.015</td>\n",
       "      <td>12.342</td>\n",
       "      <td>-20.219</td>\n",
       "      <td>1.975</td>\n",
       "      <td>1.0</td>\n",
       "    </tr>\n",
       "    <tr>\n",
       "      <td>562</td>\n",
       "      <td>Y.E. Yang</td>\n",
       "      <td>2010</td>\n",
       "      <td>-14.600</td>\n",
       "      <td>-4.833</td>\n",
       "      <td>18.323</td>\n",
       "      <td>10.747</td>\n",
       "      <td>1.0</td>\n",
       "    </tr>\n",
       "  </tbody>\n",
       "</table>\n",
       "</div>"
      ],
      "text/plain": [
       "Variable     Player Name  Season  SG: Approach-the-Green - (TOTAL SG:APP)  \\\n",
       "219         Hunter Mahan    2010                                    4.638   \n",
       "310            K.J. Choi    2010                                   30.948   \n",
       "399          Nick Watney    2010                                   35.706   \n",
       "415       Phil Mickelson    2010                                   42.069   \n",
       "428         Ricky Barnes    2010                                   56.015   \n",
       "562            Y.E. Yang    2010                                  -14.600   \n",
       "\n",
       "Variable  SG: Around-the-Green - (TOTAL SG:ARG)  \\\n",
       "219                                      -7.708   \n",
       "310                                      16.436   \n",
       "399                                     -20.961   \n",
       "415                                      12.972   \n",
       "428                                      12.342   \n",
       "562                                      -4.833   \n",
       "\n",
       "Variable  SG: Off-the-Tee - (TOTAL SG:OTT)  SG: Putting - (TOTAL SG:PUTTING)  \\\n",
       "219                                 42.996                             4.603   \n",
       "310                                  9.185                             3.475   \n",
       "399                                 40.889                             7.492   \n",
       "415                                 10.556                            -8.519   \n",
       "428                                -20.219                             1.975   \n",
       "562                                 18.323                            10.747   \n",
       "\n",
       "Variable  Label  \n",
       "219         1.0  \n",
       "310         1.0  \n",
       "399         1.0  \n",
       "415         1.0  \n",
       "428         1.0  \n",
       "562         1.0  "
      ]
     },
     "execution_count": 19,
     "metadata": {},
     "output_type": "execute_result"
    }
   ],
   "source": [
    "df_na.loc[(df_na[\"Season\"] == 2010) & (df_na[\"Label\"]== 1)]"
   ]
  },
  {
   "cell_type": "code",
   "execution_count": 9,
   "metadata": {},
   "outputs": [],
   "source": [
    "#2011 Top Performers\n",
    "df_row_merged.loc[(df_row_merged['Player Name'] == 'Charl Schwartzel') & (df_row_merged['Season'] == 2011), 'Label'] = float(1)\n",
    "df_row_merged.loc[(df_row_merged['Player Name'] == 'Jason Day') & (df_row_merged['Season'] == 2011), 'Label'] = float(1)\n",
    "df_row_merged.loc[(df_row_merged['Player Name'] == 'Adam Scott') & (df_row_merged['Season'] == 2011), 'Label'] = float(1)\n",
    "df_row_merged.loc[(df_row_merged['Player Name'] == 'Luke Donald') & (df_row_merged['Season'] == 2011), 'Label'] = float(1)\n",
    "df_row_merged.loc[(df_row_merged['Player Name'] == 'Geoff Ogilvy') & (df_row_merged['Season'] == 2011), 'Label'] = float(1)\n",
    "df_row_merged.loc[(df_row_merged['Player Name'] == 'Tiger Woods') & (df_row_merged['Season'] == 2011), 'Label'] = float(1)\n",
    "df_row_merged.loc[(df_row_merged['Player Name'] == 'Angel Cabrera') & (df_row_merged['Season'] == 2011), 'Label'] = float(1)\n",
    "df_row_merged.loc[(df_row_merged['Player Name'] == 'K.J. Choi') & (df_row_merged['Season'] == 2011), 'Label'] = float(1)\n",
    "df_row_merged.loc[(df_row_merged['Player Name'] == 'Bo Van Pelt') & (df_row_merged['Season'] == 2011), 'Label'] = float(1)\n",
    "df_row_merged.loc[(df_row_merged['Player Name'] == 'Ryan Palmer') & (df_row_merged['Season'] == 2011), 'Label'] = float(1)\n",
    "df_row_merged.loc[(df_row_merged['Player Name'] == 'Edoardo Molinari') & (df_row_merged['Season'] == 2011), 'Label'] = float(1)"
   ]
  },
  {
   "cell_type": "code",
   "execution_count": 10,
   "metadata": {},
   "outputs": [],
   "source": [
    "#2012 Top Performers\n",
    "df_row_merged.loc[(df_row_merged['Player Name'] == 'Bubba Watson') & (df_row_merged['Season'] == 2012), 'Label'] = float(1)\n",
    "df_row_merged.loc[(df_row_merged['Player Name'] == 'Louis Oosthuizen') & (df_row_merged['Season'] == 2012), 'Label'] = float(1)\n",
    "df_row_merged.loc[(df_row_merged['Player Name'] == 'Peter Hanson') & (df_row_merged['Season'] == 2012), 'Label'] = float(1)\n",
    "df_row_merged.loc[(df_row_merged['Player Name'] == 'Matt Kuchar') & (df_row_merged['Season'] == 2012), 'Label'] = float(1)\n",
    "df_row_merged.loc[(df_row_merged['Player Name'] == 'Phil Mickelson') & (df_row_merged['Season'] == 2012), 'Label'] = float(1)\n",
    "df_row_merged.loc[(df_row_merged['Player Name'] == 'Lee Westwood') & (df_row_merged['Season'] == 2012), 'Label'] = float(1)\n",
    "df_row_merged.loc[(df_row_merged['Player Name'] == 'Ian Poulter') & (df_row_merged['Season'] == 2012), 'Label'] = float(1)\n",
    "df_row_merged.loc[(df_row_merged['Player Name'] == 'Padraig Harrington') & (df_row_merged['Season'] == 2012), 'Label'] = float(1)\n",
    "df_row_merged.loc[(df_row_merged['Player Name'] == 'Justin Rose') & (df_row_merged['Season'] == 2012), 'Label'] = float(1)\n",
    "df_row_merged.loc[(df_row_merged['Player Name'] == 'Adam Scott') & (df_row_merged['Season'] == 2012), 'Label'] = float(1)"
   ]
  },
  {
   "cell_type": "code",
   "execution_count": 11,
   "metadata": {},
   "outputs": [],
   "source": [
    "#2013 Top Performers\n",
    "df_row_merged.loc[(df_row_merged['Player Name'] == 'Adam Scott') & (df_row_merged['Season'] == 2013), 'Label'] = float(1)\n",
    "df_row_merged.loc[(df_row_merged['Player Name'] == 'Angel Cabrera') & (df_row_merged['Season'] == 2013), 'Label'] = float(1)\n",
    "df_row_merged.loc[(df_row_merged['Player Name'] == 'Jason Day') & (df_row_merged['Season'] == 2013), 'Label'] = float(1)\n",
    "df_row_merged.loc[(df_row_merged['Player Name'] == 'Marc Leishman') & (df_row_merged['Season'] == 2013), 'Label'] = float(1)\n",
    "df_row_merged.loc[(df_row_merged['Player Name'] == 'Tiger Woods') & (df_row_merged['Season'] == 2013), 'Label'] = float(1)\n",
    "df_row_merged.loc[(df_row_merged['Player Name'] == 'Thorbjorn Olesen') & (df_row_merged['Season'] == 2013), 'Label'] = float(1)\n",
    "df_row_merged.loc[(df_row_merged['Player Name'] == 'Brandt Snedeker') & (df_row_merged['Season'] == 2013), 'Label'] = float(1)\n",
    "df_row_merged.loc[(df_row_merged['Player Name'] == 'Sergio Garcia') & (df_row_merged['Season'] == 2013), 'Label'] = float(1)\n",
    "df_row_merged.loc[(df_row_merged['Player Name'] == 'Matt Kuchar') & (df_row_merged['Season'] == 2013), 'Label'] = float(1)\n",
    "df_row_merged.loc[(df_row_merged['Player Name'] == 'Lee Westwood') & (df_row_merged['Season'] == 2013), 'Label'] = float(1)"
   ]
  },
  {
   "cell_type": "code",
   "execution_count": 12,
   "metadata": {},
   "outputs": [],
   "source": [
    "#2014 Top Performaers\n",
    "df_row_merged.loc[(df_row_merged['Player Name'] == 'Bubba Watson') & (df_row_merged['Season'] == 2014), 'Label'] = float(1)\n",
    "df_row_merged.loc[(df_row_merged['Player Name'] == 'Jonas Blixt') & (df_row_merged['Season'] == 2014), 'Label'] = float(1)\n",
    "df_row_merged.loc[(df_row_merged['Player Name'] == 'Jordan Spieth') & (df_row_merged['Season'] == 2014), 'Label'] = float(1)\n",
    "df_row_merged.loc[(df_row_merged['Player Name'] == 'Miguel Angel Jimenez') & (df_row_merged['Season'] == 2014), 'Label'] = float(1)\n",
    "df_row_merged.loc[(df_row_merged['Player Name'] == 'Rickie Fowler') & (df_row_merged['Season'] == 2014), 'Label'] = float(1)\n",
    "df_row_merged.loc[(df_row_merged['Player Name'] == 'Matt Kuchar') & (df_row_merged['Season'] == 2014), 'Label'] = float(1)\n",
    "df_row_merged.loc[(df_row_merged['Player Name'] == 'Lee Westwood') & (df_row_merged['Season'] == 2014), 'Label'] = float(1)\n",
    "df_row_merged.loc[(df_row_merged['Player Name'] == 'Thomas Bjorn') & (df_row_merged['Season'] == 2014), 'Label'] = float(1)\n",
    "df_row_merged.loc[(df_row_merged['Player Name'] == 'Bernhard Langer') & (df_row_merged['Season'] == 2014), 'Label'] = float(1)"
   ]
  },
  {
   "cell_type": "code",
   "execution_count": 13,
   "metadata": {},
   "outputs": [],
   "source": [
    "#2015 Top Performers\n",
    "df_row_merged.loc[(df_row_merged['Player Name'] == 'Jordan Spieth') & (df_row_merged['Season'] == 2015), 'Label'] = float(1)\n",
    "df_row_merged.loc[(df_row_merged['Player Name'] == 'Phil Mickelson') & (df_row_merged['Season'] == 2015), 'Label'] = float(1)\n",
    "df_row_merged.loc[(df_row_merged['Player Name'] == 'Justin Rose') & (df_row_merged['Season'] == 2015), 'Label'] = float(1)\n",
    "df_row_merged.loc[(df_row_merged['Player Name'] == 'Rory McIlroy') & (df_row_merged['Season'] == 2015), 'Label'] = float(1)\n",
    "df_row_merged.loc[(df_row_merged['Player Name'] == 'Hideki Matsuyama') & (df_row_merged['Season'] == 2015), 'Label'] = float(1)\n",
    "df_row_merged.loc[(df_row_merged['Player Name'] == 'Paul Casey') & (df_row_merged['Season'] == 2015), 'Label'] = float(1)\n",
    "df_row_merged.loc[(df_row_merged['Player Name'] == 'Dustin Johnson') & (df_row_merged['Season'] == 2015), 'Label'] = float(1)\n",
    "df_row_merged.loc[(df_row_merged['Player Name'] == 'Ian Poulter') & (df_row_merged['Season'] == 2015), 'Label'] = float(1)\n",
    "df_row_merged.loc[(df_row_merged['Player Name'] == 'Charley Hoffman') & (df_row_merged['Season'] == 2015), 'Label'] = float(1)\n",
    "df_row_merged.loc[(df_row_merged['Player Name'] == 'Zach Johnson') & (df_row_merged['Season'] == 2015), 'Label'] = float(1)"
   ]
  },
  {
   "cell_type": "code",
   "execution_count": 14,
   "metadata": {},
   "outputs": [],
   "source": [
    "#2016 Top Performers\n",
    "df_row_merged.loc[(df_row_merged['Player Name'] == 'Danny Willett') & (df_row_merged['Season'] == 2016), 'Label'] = float(1)\n",
    "df_row_merged.loc[(df_row_merged['Player Name'] == 'Jordan Spieth') & (df_row_merged['Season'] == 2016), 'Label'] = float(1)\n",
    "df_row_merged.loc[(df_row_merged['Player Name'] == 'Lee Westwood') & (df_row_merged['Season'] == 2016), 'Label'] = float(1)\n",
    "df_row_merged.loc[(df_row_merged['Player Name'] == 'Paul Casey') & (df_row_merged['Season'] == 2016), 'Label'] = float(1)\n",
    "df_row_merged.loc[(df_row_merged['Player Name'] == 'J.B. Holmes') & (df_row_merged['Season'] == 2016), 'Label'] = float(1)\n",
    "df_row_merged.loc[(df_row_merged['Player Name'] == 'Dustin Johnson') & (df_row_merged['Season'] == 2016), 'Label'] = float(1)\n",
    "df_row_merged.loc[(df_row_merged['Player Name'] == 'Matthew Fitzpatrick') & (df_row_merged['Season'] == 2016), 'Label'] = float(1)\n",
    "df_row_merged.loc[(df_row_merged['Player Name'] == 'Soren Kjeldsen') & (df_row_merged['Season'] == 2016), 'Label'] = float(1)\n",
    "df_row_merged.loc[(df_row_merged['Player Name'] == 'Hideki Matsuyama') & (df_row_merged['Season'] == 2016), 'Label'] = float(1)\n",
    "df_row_merged.loc[(df_row_merged['Player Name'] == 'Daniel Berger') & (df_row_merged['Season'] == 2016), 'Label'] = float(1)"
   ]
  },
  {
   "cell_type": "code",
   "execution_count": 15,
   "metadata": {},
   "outputs": [],
   "source": [
    "#2017 Top Performers\n",
    "df_row_merged.loc[(df_row_merged['Player Name'] == 'Sergio Garcia') & (df_row_merged['Season'] == 2017), 'Label'] = float(1)\n",
    "df_row_merged.loc[(df_row_merged['Player Name'] == 'Justin Rose') & (df_row_merged['Season'] == 2017), 'Label'] = float(1)\n",
    "df_row_merged.loc[(df_row_merged['Player Name'] == 'Charl Schwartzel') & (df_row_merged['Season'] == 2017), 'Label'] = float(1)\n",
    "df_row_merged.loc[(df_row_merged['Player Name'] == 'Matt Kuchar') & (df_row_merged['Season'] == 2017), 'Label'] = float(1)\n",
    "df_row_merged.loc[(df_row_merged['Player Name'] == 'Thomas Pieters') & (df_row_merged['Season'] == 2017), 'Label'] = float(1)\n",
    "df_row_merged.loc[(df_row_merged['Player Name'] == 'Paul Casey') & (df_row_merged['Season'] == 2017), 'Label'] = float(1)\n",
    "df_row_merged.loc[(df_row_merged['Player Name'] == 'Kevin Chappell') & (df_row_merged['Season'] == 2017), 'Label'] = float(1)\n",
    "df_row_merged.loc[(df_row_merged['Player Name'] == 'Rory McIlroy') & (df_row_merged['Season'] == 2017), 'Label'] = float(1)\n",
    "df_row_merged.loc[(df_row_merged['Player Name'] == 'Ryan Moore') & (df_row_merged['Season'] == 2017), 'Label'] = float(1)\n",
    "df_row_merged.loc[(df_row_merged['Player Name'] == 'Adam Scott') & (df_row_merged['Season'] == 2017), 'Label'] = float(1)"
   ]
  },
  {
   "cell_type": "code",
   "execution_count": 16,
   "metadata": {},
   "outputs": [],
   "source": [
    "#2018 Top Performers\n",
    "df_row_merged.loc[(df_row_merged['Player Name'] == 'Patrick Reed') & (df_row_merged['Season'] == 2018), 'Label'] = float(1)\n",
    "df_row_merged.loc[(df_row_merged['Player Name'] == 'Rickie Fowler') & (df_row_merged['Season'] == 2018), 'Label'] = float(1)\n",
    "df_row_merged.loc[(df_row_merged['Player Name'] == 'Jordan Spieth') & (df_row_merged['Season'] == 2018), 'Label'] = float(1)\n",
    "df_row_merged.loc[(df_row_merged['Player Name'] == 'Jon Rahm') & (df_row_merged['Season'] == 2018), 'Label'] = float(1)\n",
    "df_row_merged.loc[(df_row_merged['Player Name'] == 'Rory McIlroy') & (df_row_merged['Season'] == 2018), 'Label'] = float(1)\n",
    "df_row_merged.loc[(df_row_merged['Player Name'] == 'Cameron Smith') & (df_row_merged['Season'] == 2018), 'Label'] = float(1)\n",
    "df_row_merged.loc[(df_row_merged['Player Name'] == 'Henrik Stenson') & (df_row_merged['Season'] == 2018), 'Label'] = float(1)\n",
    "df_row_merged.loc[(df_row_merged['Player Name'] == 'Bubba Watson') & (df_row_merged['Season'] == 2018), 'Label'] = float(1)\n",
    "df_row_merged.loc[(df_row_merged['Player Name'] == 'Marc Leishman') & (df_row_merged['Season'] == 2018), 'Label'] = float(1)\n",
    "df_row_merged.loc[(df_row_merged['Player Name'] == 'Tony Finau') & (df_row_merged['Season'] == 2018), 'Label'] = float(1)"
   ]
  },
  {
   "cell_type": "code",
   "execution_count": 17,
   "metadata": {},
   "outputs": [],
   "source": [
    "#2019 Top Performers\n",
    "df_row_merged.loc[(df_row_merged['Player Name'] == 'Tiger Woods') & (df_row_merged['Season'] == 2019), 'Label'] = float(1)\n",
    "df_row_merged.loc[(df_row_merged['Player Name'] == 'Dustin Johnson') & (df_row_merged['Season'] == 2019), 'Label'] = float(1)\n",
    "df_row_merged.loc[(df_row_merged['Player Name'] == 'Brooks Koepka') & (df_row_merged['Season'] == 2019), 'Label'] = float(1)\n",
    "df_row_merged.loc[(df_row_merged['Player Name'] == 'Xander Schauffele') & (df_row_merged['Season'] == 2019), 'Label'] = float(1)\n",
    "df_row_merged.loc[(df_row_merged['Player Name'] == 'Jason Day') & (df_row_merged['Season'] == 2019), 'Label'] = float(1)\n",
    "df_row_merged.loc[(df_row_merged['Player Name'] == 'Tony Finau') & (df_row_merged['Season'] == 2019), 'Label'] = float(1)\n",
    "df_row_merged.loc[(df_row_merged['Player Name'] == 'Francesco Molinari') & (df_row_merged['Season'] == 2019), 'Label'] = float(1)\n",
    "df_row_merged.loc[(df_row_merged['Player Name'] == 'Web Simpson') & (df_row_merged['Season'] == 2019), 'Label'] = float(1)\n",
    "df_row_merged.loc[(df_row_merged['Player Name'] == 'Patrick Cantlay') & (df_row_merged['Season'] == 2019), 'Label'] = float(1)\n",
    "df_row_merged.loc[(df_row_merged['Player Name'] == 'Ricky Fowler') & (df_row_merged['Season'] == 2019), 'Label'] = float(1)\n",
    "df_row_merged.loc[(df_row_merged['Player Name'] == 'John Rahm') & (df_row_merged['Season'] == 2019), 'Label'] = float(1)"
   ]
  },
  {
   "cell_type": "markdown",
   "metadata": {},
   "source": [
    "### Start Labeling"
   ]
  },
  {
   "cell_type": "code",
   "execution_count": 18,
   "metadata": {},
   "outputs": [],
   "source": [
    "df_na= df_row_merged.fillna(0)"
   ]
  },
  {
   "cell_type": "code",
   "execution_count": 20,
   "metadata": {},
   "outputs": [],
   "source": [
    "df_masters = df_na.drop(columns=['Player Name', 'Season'])"
   ]
  },
  {
   "cell_type": "code",
   "execution_count": 21,
   "metadata": {},
   "outputs": [],
   "source": [
    "y = df_masters[\"Label\"].values\n",
    "X = df_masters.loc[ : ,df_masters.columns != 'Label']"
   ]
  },
  {
   "cell_type": "code",
   "execution_count": 22,
   "metadata": {},
   "outputs": [
    {
     "data": {
      "text/html": [
       "<div>\n",
       "<style scoped>\n",
       "    .dataframe tbody tr th:only-of-type {\n",
       "        vertical-align: middle;\n",
       "    }\n",
       "\n",
       "    .dataframe tbody tr th {\n",
       "        vertical-align: top;\n",
       "    }\n",
       "\n",
       "    .dataframe thead th {\n",
       "        text-align: right;\n",
       "    }\n",
       "</style>\n",
       "<table border=\"1\" class=\"dataframe\">\n",
       "  <thead>\n",
       "    <tr style=\"text-align: right;\">\n",
       "      <th>Variable</th>\n",
       "      <th>SG: Approach-the-Green - (TOTAL SG:APP)</th>\n",
       "      <th>SG: Around-the-Green - (TOTAL SG:ARG)</th>\n",
       "      <th>SG: Off-the-Tee - (TOTAL SG:OTT)</th>\n",
       "      <th>SG: Putting - (TOTAL SG:PUTTING)</th>\n",
       "    </tr>\n",
       "    <tr>\n",
       "      <th>Variable</th>\n",
       "      <th></th>\n",
       "      <th></th>\n",
       "      <th></th>\n",
       "      <th></th>\n",
       "    </tr>\n",
       "  </thead>\n",
       "  <tbody>\n",
       "    <tr>\n",
       "      <td>SG: Approach-the-Green - (TOTAL SG:APP)</td>\n",
       "      <td>1.000000</td>\n",
       "      <td>0.098704</td>\n",
       "      <td>0.267628</td>\n",
       "      <td>-0.124519</td>\n",
       "    </tr>\n",
       "    <tr>\n",
       "      <td>SG: Around-the-Green - (TOTAL SG:ARG)</td>\n",
       "      <td>0.098704</td>\n",
       "      <td>1.000000</td>\n",
       "      <td>-0.221254</td>\n",
       "      <td>0.256410</td>\n",
       "    </tr>\n",
       "    <tr>\n",
       "      <td>SG: Off-the-Tee - (TOTAL SG:OTT)</td>\n",
       "      <td>0.267628</td>\n",
       "      <td>-0.221254</td>\n",
       "      <td>1.000000</td>\n",
       "      <td>-0.193929</td>\n",
       "    </tr>\n",
       "    <tr>\n",
       "      <td>SG: Putting - (TOTAL SG:PUTTING)</td>\n",
       "      <td>-0.124519</td>\n",
       "      <td>0.256410</td>\n",
       "      <td>-0.193929</td>\n",
       "      <td>1.000000</td>\n",
       "    </tr>\n",
       "  </tbody>\n",
       "</table>\n",
       "</div>"
      ],
      "text/plain": [
       "Variable                                 SG: Approach-the-Green - (TOTAL SG:APP)  \\\n",
       "Variable                                                                           \n",
       "SG: Approach-the-Green - (TOTAL SG:APP)                                 1.000000   \n",
       "SG: Around-the-Green - (TOTAL SG:ARG)                                   0.098704   \n",
       "SG: Off-the-Tee - (TOTAL SG:OTT)                                        0.267628   \n",
       "SG: Putting - (TOTAL SG:PUTTING)                                       -0.124519   \n",
       "\n",
       "Variable                                 SG: Around-the-Green - (TOTAL SG:ARG)  \\\n",
       "Variable                                                                         \n",
       "SG: Approach-the-Green - (TOTAL SG:APP)                               0.098704   \n",
       "SG: Around-the-Green - (TOTAL SG:ARG)                                 1.000000   \n",
       "SG: Off-the-Tee - (TOTAL SG:OTT)                                     -0.221254   \n",
       "SG: Putting - (TOTAL SG:PUTTING)                                      0.256410   \n",
       "\n",
       "Variable                                 SG: Off-the-Tee - (TOTAL SG:OTT)  \\\n",
       "Variable                                                                    \n",
       "SG: Approach-the-Green - (TOTAL SG:APP)                          0.267628   \n",
       "SG: Around-the-Green - (TOTAL SG:ARG)                           -0.221254   \n",
       "SG: Off-the-Tee - (TOTAL SG:OTT)                                 1.000000   \n",
       "SG: Putting - (TOTAL SG:PUTTING)                                -0.193929   \n",
       "\n",
       "Variable                                 SG: Putting - (TOTAL SG:PUTTING)  \n",
       "Variable                                                                   \n",
       "SG: Approach-the-Green - (TOTAL SG:APP)                         -0.124519  \n",
       "SG: Around-the-Green - (TOTAL SG:ARG)                            0.256410  \n",
       "SG: Off-the-Tee - (TOTAL SG:OTT)                                -0.193929  \n",
       "SG: Putting - (TOTAL SG:PUTTING)                                 1.000000  "
      ]
     },
     "execution_count": 22,
     "metadata": {},
     "output_type": "execute_result"
    }
   ],
   "source": [
    "X.corr(method='spearman', min_periods=1)"
   ]
  },
  {
   "cell_type": "markdown",
   "metadata": {},
   "source": [
    "### Split Data for Training and Testing"
   ]
  },
  {
   "cell_type": "code",
   "execution_count": 23,
   "metadata": {},
   "outputs": [],
   "source": [
    "X_train, X_test, y_train, y_test = train_test_split(X,y, random_state=42)"
   ]
  },
  {
   "cell_type": "markdown",
   "metadata": {},
   "source": [
    "### Create and Fit Model"
   ]
  },
  {
   "cell_type": "code",
   "execution_count": 24,
   "metadata": {},
   "outputs": [
    {
     "data": {
      "text/plain": [
       "LogisticRegression(C=1.0, class_weight=None, dual=False, fit_intercept=True,\n",
       "                   intercept_scaling=1, l1_ratio=None, max_iter=100,\n",
       "                   multi_class='warn', n_jobs=None, penalty='l2',\n",
       "                   random_state=None, solver='warn', tol=0.0001, verbose=0,\n",
       "                   warm_start=False)"
      ]
     },
     "execution_count": 24,
     "metadata": {},
     "output_type": "execute_result"
    }
   ],
   "source": [
    "classifier=LogisticRegression()\n",
    "classifier.fit(X_train, y_train)"
   ]
  },
  {
   "cell_type": "markdown",
   "metadata": {},
   "source": [
    "### Score the Model"
   ]
  },
  {
   "cell_type": "code",
   "execution_count": 25,
   "metadata": {},
   "outputs": [
    {
     "name": "stdout",
     "output_type": "stream",
     "text": [
      "Training data score: 0.9530516431924883\n",
      "Test data score: 0.972027972027972\n"
     ]
    }
   ],
   "source": [
    "print(f\"Training data score: {classifier.score(X_train, y_train)}\")\n",
    "print(f\"Test data score: {classifier.score(X_test, y_test.tolist())}\")"
   ]
  },
  {
   "cell_type": "markdown",
   "metadata": {},
   "source": [
    "### Make 10 Predictions"
   ]
  },
  {
   "cell_type": "code",
   "execution_count": 26,
   "metadata": {},
   "outputs": [
    {
     "name": "stdout",
     "output_type": "stream",
     "text": [
      "First 10 predictions: [0. 0. 0. 0. 0. 0. 0. 0. 0. 0.]\n",
      "First 10 predictions: [0.0, 0.0, 0.0, 0.0, 0.0, 0.0, 0.0, 0.0, 0.0, 0.0]\n"
     ]
    }
   ],
   "source": [
    "predictions = classifier.predict(X_test)\n",
    "\n",
    "print(f\"First 10 predictions: {predictions[:10]}\")\n",
    "print(f\"First 10 predictions: {y_test[:10].tolist()}\")\n",
    "\n",
    "# pd.DataFrame({\"predictions\": predictions, \"Actual\": y_test}).reset.index"
   ]
  },
  {
   "cell_type": "markdown",
   "metadata": {},
   "source": [
    "### Predict testing Data"
   ]
  },
  {
   "cell_type": "code",
   "execution_count": 27,
   "metadata": {},
   "outputs": [],
   "source": [
    "results = pd.DataFrame({\"predictions\": predictions, \"Actual\": y_test})"
   ]
  },
  {
   "cell_type": "code",
   "execution_count": 28,
   "metadata": {},
   "outputs": [
    {
     "data": {
      "text/plain": [
       "array([[139,   0],\n",
       "       [  4,   0]], dtype=int64)"
      ]
     },
     "execution_count": 28,
     "metadata": {},
     "output_type": "execute_result"
    }
   ],
   "source": [
    "conf_matrix = metrics.confusion_matrix(y_test, predictions)\n",
    "\n",
    "conf_matrix"
   ]
  },
  {
   "cell_type": "code",
   "execution_count": 29,
   "metadata": {},
   "outputs": [
    {
     "data": {
      "image/png": "[encoded data removed]",
      "text/plain": [
       "<Figure size 432x288 with 2 Axes>"
      ]
     },
     "metadata": {
      "needs_background": "light"
     },
     "output_type": "display_data"
    }
   ],
   "source": [
    "sns.heatmap(conf_matrix, annot=True,fmt='d')\n",
    "\n",
    "plt.show()"
   ]
  },
  {
   "cell_type": "code",
   "execution_count": 30,
   "metadata": {},
   "outputs": [
    {
     "name": "stdout",
     "output_type": "stream",
     "text": [
      "              precision    recall  f1-score   support\n",
      "\n",
      "         0.0       0.97      1.00      0.99       139\n",
      "         1.0       0.00      0.00      0.00         4\n",
      "\n",
      "    accuracy                           0.97       143\n",
      "   macro avg       0.49      0.50      0.49       143\n",
      "weighted avg       0.94      0.97      0.96       143\n",
      "\n"
     ]
    }
   ],
   "source": [
    "print(metrics.classification_report(y_test, predictions))"
   ]
  },
  {
   "cell_type": "code",
   "execution_count": 31,
   "metadata": {},
   "outputs": [
    {
     "data": {
      "text/plain": [
       "1.0"
      ]
     },
     "execution_count": 31,
     "metadata": {},
     "output_type": "execute_result"
    }
   ],
   "source": [
    "rf = RandomForestClassifier(n_estimators=200)\n",
    "rf = rf.fit(X, y)\n",
    "rf.score(X, y)"
   ]
  },
  {
   "cell_type": "code",
   "execution_count": 32,
   "metadata": {},
   "outputs": [
    {
     "data": {
      "text/plain": [
       "array([0.2590473 , 0.24398504, 0.28475357, 0.21221409])"
      ]
     },
     "execution_count": 32,
     "metadata": {},
     "output_type": "execute_result"
    }
   ],
   "source": [
    "importances = rf.feature_importances_\n",
    "importances"
   ]
  },
  {
   "cell_type": "code",
   "execution_count": null,
   "metadata": {},
   "outputs": [],
   "source": []
  }
 ],
 "metadata": {
  "kernelspec": {
   "display_name": "Python 3",
   "language": "python",
   "name": "python3"
  },
  "language_info": {
   "codemirror_mode": {
    "name": "ipython",
    "version": 3
   },
   "file_extension": ".py",
   "mimetype": "text/x-python",
   "name": "python",
   "nbconvert_exporter": "python",
   "pygments_lexer": "ipython3",
   "version": "3.7.4"
  }
 },
 "nbformat": 4,
 "nbformat_minor": 4
}
