{
 "cells": [
  {
   "cell_type": "code",
   "execution_count": 2,
   "metadata": {},
   "outputs": [
    {
     "name": "stdout",
     "output_type": "stream",
     "text": [
      "<class 'pandas.core.frame.DataFrame'>\n",
      "RangeIndex: 2740403 entries, 0 to 2740402\n",
      "Data columns (total 5 columns):\n",
      "Player Name    object\n",
      "Season         int64\n",
      "Statistic      object\n",
      "Variable       object\n",
      "Value          object\n",
      "dtypes: int64(1), object(4)\n",
      "memory usage: 104.5+ MB\n"
     ]
    }
   ],
   "source": [
    "# Dependencies and Setup\n",
    "import numpy as np # linear algebra\n",
    "import pandas as pd # data processing\n",
    "import os\n",
    "import matplotlib.pyplot as plt # charts and graphs\n",
    "#import seaborn as sns # styling & pretty colors\n",
    "import shutil\n",
    "#import tensorflow as tf\n",
    "\n",
    "# File to Load (Remember to Change These)\n",
    "historic_csv = \"PGA_Data_Historical.csv\"\n",
    "\n",
    "# Read Purchasing File and store into Pandas data frame\n",
    "historic_df = pd.read_csv(historic_csv)\n",
    "historic_df.info()"
   ]
  },
  {
   "cell_type": "code",
   "execution_count": 4,
   "metadata": {},
   "outputs": [
    {
     "name": "stdout",
     "output_type": "stream",
     "text": [
      "original column count:\t5\n",
      "     new column count:\t2083\n"
     ]
    }
   ],
   "source": [
    "df = historic_df.set_index(['Player Name', 'Variable', 'Season'])['Value'].unstack('Variable').reset_index()\n",
    "\n",
    "print(\"original column count:\\t\" + str(len(historic_df.columns)))\n",
    "print(\"     new column count:\\t\" + str(len(df.columns)))"
   ]
  },
  {
   "cell_type": "code",
   "execution_count": null,
   "metadata": {},
   "outputs": [],
   "source": [
    "variables_df = historic_df.loc[:, [\"Player Name\", \"Season\", \"Variable\", \"Value\"]]\n",
    "variables_df = historic_df.drop_duplicates()\n",
    "variables_df\n",
    "#gender_count_df = player_demographics_df\n",
    "#gender_count_df = gender_count_df.groupby(\"Gender\").count()\n",
    "#gender_percent = gender_count_df / player_count *100\n",
    "#gender_demographics = pd.DataFrame({\"Total Count\": gender_count_df[\"Age\"], \"Percentage of Players\": gender_percent[\"Age\"]})\n",
    "#gender_demographics"
   ]
  }
 ],
 "metadata": {
  "kernelspec": {
   "display_name": "Python 3.6.9 64-bit ('PythonData': conda)",
   "language": "python",
   "name": "python36964bitpythondataconda9120b9e3259b410e959ad1ddf793647d"
  }
 },
 "nbformat": 4,
 "nbformat_minor": 2
}
