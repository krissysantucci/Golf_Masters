{
 "cells": [
  {
   "cell_type": "code",
   "execution_count": 6,
   "metadata": {},
   "outputs": [],
   "source": [
    "import os\n",
    "import sys\n",
    "import warnings\n",
    "import pandas as pd\n",
    "import seaborn as sns\n",
    "import matplotlib.pyplot as plt\n",
    "import numpy as np\n",
    "\n",
    "import scipy\n",
    "from scipy import stats\n",
    "\n",
    "import sklearn\n",
    "from sklearn.preprocessing import StandardScaler\n",
    "from sklearn.linear_model import LogisticRegression\n",
    "from sklearn.ensemble import RandomForestClassifier\n",
    "from sklearn.model_selection import train_test_split\n",
    "from sklearn import metrics\n",
    "from sklearn.impute import SimpleImputer\n",
    "\n",
    "warnings.simplefilter('ignore')\n",
    "\n",
    "sns.set(rc={'figure.figsize':(11.7,8.27)})"
   ]
  },
  {
   "cell_type": "code",
   "execution_count": 21,
   "metadata": {
    "scrolled": false
   },
   "outputs": [
    {
     "data": {
      "text/html": [
       "<div>\n",
       "<style scoped>\n",
       "    .dataframe tbody tr th:only-of-type {\n",
       "        vertical-align: middle;\n",
       "    }\n",
       "\n",
       "    .dataframe tbody tr th {\n",
       "        vertical-align: top;\n",
       "    }\n",
       "\n",
       "    .dataframe thead th {\n",
       "        text-align: right;\n",
       "    }\n",
       "</style>\n",
       "<table border=\"1\" class=\"dataframe\">\n",
       "  <thead>\n",
       "    <tr style=\"text-align: right;\">\n",
       "      <th>Variable</th>\n",
       "      <th>Player Name</th>\n",
       "      <th>Season</th>\n",
       "      <th>SG: Putting - (TOTAL SG:PUTTING)</th>\n",
       "    </tr>\n",
       "  </thead>\n",
       "  <tbody>\n",
       "    <tr>\n",
       "      <td>0</td>\n",
       "      <td>Aaron Baddeley</td>\n",
       "      <td>2010</td>\n",
       "      <td>44.202</td>\n",
       "    </tr>\n",
       "    <tr>\n",
       "      <td>1</td>\n",
       "      <td>Aaron Baddeley</td>\n",
       "      <td>2011</td>\n",
       "      <td>20.08</td>\n",
       "    </tr>\n",
       "    <tr>\n",
       "      <td>2</td>\n",
       "      <td>Aaron Baddeley</td>\n",
       "      <td>2012</td>\n",
       "      <td>33.197</td>\n",
       "    </tr>\n",
       "    <tr>\n",
       "      <td>3</td>\n",
       "      <td>Aaron Baddeley</td>\n",
       "      <td>2013</td>\n",
       "      <td>NaN</td>\n",
       "    </tr>\n",
       "    <tr>\n",
       "      <td>4</td>\n",
       "      <td>Aaron Goldberg</td>\n",
       "      <td>2010</td>\n",
       "      <td>NaN</td>\n",
       "    </tr>\n",
       "  </tbody>\n",
       "</table>\n",
       "</div>"
      ],
      "text/plain": [
       "Variable     Player Name  Season SG: Putting - (TOTAL SG:PUTTING)\n",
       "0         Aaron Baddeley    2010                           44.202\n",
       "1         Aaron Baddeley    2011                            20.08\n",
       "2         Aaron Baddeley    2012                           33.197\n",
       "3         Aaron Baddeley    2013                              NaN\n",
       "4         Aaron Goldberg    2010                              NaN"
      ]
     },
     "execution_count": 21,
     "metadata": {},
     "output_type": "execute_result"
    }
   ],
   "source": [
    "dataset = pd.read_csv('PGA_Data_Historical.csv')\n",
    "\n",
    "df = dataset.set_index(['Player Name', 'Variable', 'Season'])['Value'].unstack('Variable').reset_index()\n",
    "df1 = df[[\"Player Name\", \"Season\",\"SG: Putting - (TOTAL SG:PUTTING)\"]]\n",
    "df_1 = df[[\"Player Name\", \"Season\"]]\n",
    "\n",
    "df1.head()"
   ]
  },
  {
   "cell_type": "code",
   "execution_count": 9,
   "metadata": {},
   "outputs": [
    {
     "data": {
      "text/plain": [
       "5051"
      ]
     },
     "execution_count": 9,
     "metadata": {},
     "output_type": "execute_result"
    }
   ],
   "source": [
    "len(df1)"
   ]
  },
  {
   "cell_type": "code",
   "execution_count": 17,
   "metadata": {},
   "outputs": [
    {
     "data": {
      "text/plain": [
       "Variable\n",
       "Player Name                         5051\n",
       "Season                              5051\n",
       "SG: Putting - (TOTAL SG:PUTTING)     569\n",
       "dtype: int64"
      ]
     },
     "execution_count": 17,
     "metadata": {},
     "output_type": "execute_result"
    }
   ],
   "source": [
    "df1.count()"
   ]
  },
  {
   "cell_type": "code",
   "execution_count": 18,
   "metadata": {},
   "outputs": [
    {
     "data": {
      "text/plain": [
       "569"
      ]
     },
     "execution_count": 18,
     "metadata": {},
     "output_type": "execute_result"
    }
   ],
   "source": [
    "df['SG: Putting - (TOTAL SG:PUTTING)'].count()"
   ]
  },
  {
   "cell_type": "markdown",
   "metadata": {},
   "source": [
    "### Replace Null Values with Mean"
   ]
  },
  {
   "cell_type": "code",
   "execution_count": 19,
   "metadata": {},
   "outputs": [
    {
     "data": {
      "text/html": [
       "<div>\n",
       "<style scoped>\n",
       "    .dataframe tbody tr th:only-of-type {\n",
       "        vertical-align: middle;\n",
       "    }\n",
       "\n",
       "    .dataframe tbody tr th {\n",
       "        vertical-align: top;\n",
       "    }\n",
       "\n",
       "    .dataframe thead th {\n",
       "        text-align: right;\n",
       "    }\n",
       "</style>\n",
       "<table border=\"1\" class=\"dataframe\">\n",
       "  <thead>\n",
       "    <tr style=\"text-align: right;\">\n",
       "      <th>Variable</th>\n",
       "      <th>Accuracy Rating - (RATING)</th>\n",
       "      <th>Scoring Rating - (RATING)</th>\n",
       "      <th>Power Rating - (RATING)</th>\n",
       "      <th>Putting Rating - (RATING)</th>\n",
       "      <th>Short Game Rating - (RATING)</th>\n",
       "    </tr>\n",
       "  </thead>\n",
       "  <tbody>\n",
       "    <tr>\n",
       "      <td>0</td>\n",
       "      <td>False</td>\n",
       "      <td>False</td>\n",
       "      <td>False</td>\n",
       "      <td>False</td>\n",
       "      <td>False</td>\n",
       "    </tr>\n",
       "    <tr>\n",
       "      <td>1</td>\n",
       "      <td>False</td>\n",
       "      <td>False</td>\n",
       "      <td>False</td>\n",
       "      <td>False</td>\n",
       "      <td>False</td>\n",
       "    </tr>\n",
       "    <tr>\n",
       "      <td>2</td>\n",
       "      <td>False</td>\n",
       "      <td>False</td>\n",
       "      <td>False</td>\n",
       "      <td>False</td>\n",
       "      <td>False</td>\n",
       "    </tr>\n",
       "    <tr>\n",
       "      <td>3</td>\n",
       "      <td>True</td>\n",
       "      <td>True</td>\n",
       "      <td>True</td>\n",
       "      <td>True</td>\n",
       "      <td>True</td>\n",
       "    </tr>\n",
       "    <tr>\n",
       "      <td>4</td>\n",
       "      <td>True</td>\n",
       "      <td>True</td>\n",
       "      <td>True</td>\n",
       "      <td>True</td>\n",
       "      <td>True</td>\n",
       "    </tr>\n",
       "    <tr>\n",
       "      <td>...</td>\n",
       "      <td>...</td>\n",
       "      <td>...</td>\n",
       "      <td>...</td>\n",
       "      <td>...</td>\n",
       "      <td>...</td>\n",
       "    </tr>\n",
       "    <tr>\n",
       "      <td>5046</td>\n",
       "      <td>True</td>\n",
       "      <td>True</td>\n",
       "      <td>True</td>\n",
       "      <td>True</td>\n",
       "      <td>True</td>\n",
       "    </tr>\n",
       "    <tr>\n",
       "      <td>5047</td>\n",
       "      <td>True</td>\n",
       "      <td>True</td>\n",
       "      <td>True</td>\n",
       "      <td>True</td>\n",
       "      <td>True</td>\n",
       "    </tr>\n",
       "    <tr>\n",
       "      <td>5048</td>\n",
       "      <td>True</td>\n",
       "      <td>True</td>\n",
       "      <td>True</td>\n",
       "      <td>True</td>\n",
       "      <td>True</td>\n",
       "    </tr>\n",
       "    <tr>\n",
       "      <td>5049</td>\n",
       "      <td>True</td>\n",
       "      <td>True</td>\n",
       "      <td>True</td>\n",
       "      <td>True</td>\n",
       "      <td>True</td>\n",
       "    </tr>\n",
       "    <tr>\n",
       "      <td>5050</td>\n",
       "      <td>True</td>\n",
       "      <td>True</td>\n",
       "      <td>True</td>\n",
       "      <td>True</td>\n",
       "      <td>True</td>\n",
       "    </tr>\n",
       "  </tbody>\n",
       "</table>\n",
       "<p>5051 rows × 5 columns</p>\n",
       "</div>"
      ],
      "text/plain": [
       "Variable  Accuracy Rating - (RATING)  Scoring Rating - (RATING)  \\\n",
       "0                              False                      False   \n",
       "1                              False                      False   \n",
       "2                              False                      False   \n",
       "3                               True                       True   \n",
       "4                               True                       True   \n",
       "...                              ...                        ...   \n",
       "5046                            True                       True   \n",
       "5047                            True                       True   \n",
       "5048                            True                       True   \n",
       "5049                            True                       True   \n",
       "5050                            True                       True   \n",
       "\n",
       "Variable  Power Rating - (RATING)  Putting Rating - (RATING)  \\\n",
       "0                           False                      False   \n",
       "1                           False                      False   \n",
       "2                           False                      False   \n",
       "3                            True                       True   \n",
       "4                            True                       True   \n",
       "...                           ...                        ...   \n",
       "5046                         True                       True   \n",
       "5047                         True                       True   \n",
       "5048                         True                       True   \n",
       "5049                         True                       True   \n",
       "5050                         True                       True   \n",
       "\n",
       "Variable  Short Game Rating - (RATING)  \n",
       "0                                False  \n",
       "1                                False  \n",
       "2                                False  \n",
       "3                                 True  \n",
       "4                                 True  \n",
       "...                                ...  \n",
       "5046                              True  \n",
       "5047                              True  \n",
       "5048                              True  \n",
       "5049                              True  \n",
       "5050                              True  \n",
       "\n",
       "[5051 rows x 5 columns]"
      ]
     },
     "execution_count": 19,
     "metadata": {},
     "output_type": "execute_result"
    }
   ],
   "source": [
    "df_2 = df[[\"Accuracy Rating - (RATING)\",\"Scoring Rating - (RATING)\",\"Power Rating - (RATING)\", \"Putting Rating - (RATING)\", \"Short Game Rating - (RATING)\"]]\n",
    "\n",
    "df_2.isnull()"
   ]
  },
  {
   "cell_type": "markdown",
   "metadata": {},
   "source": [
    "### Merge Data"
   ]
  },
  {
   "cell_type": "code",
   "execution_count": 22,
   "metadata": {},
   "outputs": [],
   "source": [
    "imp_mean = SimpleImputer(missing_values=np.nan, strategy='mean')\n",
    "df_2 = pd.DataFrame(imp_mean.fit_transform(df_2),columns=[\"Accuracy Rating - (RATING)\",\"Scoring Rating - (RATING)\",\"Power Rating - (RATING)\", \"Putting Rating - (RATING)\", \"Short Game Rating - (RATING)\"])\n",
    "\n",
    "df_row_merged = pd.concat([df_1, df_2], axis=1)"
   ]
  },
  {
   "cell_type": "markdown",
   "metadata": {},
   "source": [
    "### Start Labeling"
   ]
  },
  {
   "cell_type": "code",
   "execution_count": 23,
   "metadata": {},
   "outputs": [],
   "source": [
    "#2010 Top Performers\n",
    "df_row_merged.loc[(df_row_merged['Player Name'] == 'Phil Mickelson') & (df_row_merged['Season'] == 2010), 'Label'] = float(1)\n",
    "df_row_merged.loc[(df_row_merged['Player Name'] == 'Lee Westwood') & (df_row_merged['Season'] == 2010), 'Label'] = float(1)\n",
    "df_row_merged.loc[(df_row_merged['Player Name'] == 'Anthony Kim') & (df_row_merged['Season'] == 2010), 'Label'] = float(1)\n",
    "df_row_merged.loc[(df_row_merged['Player Name'] == 'K.J. Choi') & (df_row_merged['Season'] == 2010), 'Label'] = float(1)\n",
    "df_row_merged.loc[(df_row_merged['Player Name'] == 'Tiger Woods') & (df_row_merged['Season'] == 2010), 'Label'] = float(1)\n",
    "df_row_merged.loc[(df_row_merged['Player Name'] == 'Fred Couples') & (df_row_merged['Season'] == 2010), 'Label'] = float(1)\n",
    "df_row_merged.loc[(df_row_merged['Player Name'] == 'Nick Watney') & (df_row_merged['Season'] == 2010), 'Label'] = float(1)"
   ]
  },
  {
   "cell_type": "code",
   "execution_count": 24,
   "metadata": {},
   "outputs": [],
   "source": [
    "#2011 Top Performers\n",
    "df_row_merged.loc[(df_row_merged['Player Name'] == 'Charl Schwartzel') & (df_row_merged['Season'] == 2011), 'Label'] = float(1)\n",
    "df_row_merged.loc[(df_row_merged['Player Name'] == 'Jason Day') & (df_row_merged['Season'] == 2011), 'Label'] = float(1)\n",
    "df_row_merged.loc[(df_row_merged['Player Name'] == 'Adam Scott') & (df_row_merged['Season'] == 2011), 'Label'] = float(1)\n",
    "df_row_merged.loc[(df_row_merged['Player Name'] == 'Luke Donald') & (df_row_merged['Season'] == 2011), 'Label'] = float(1)\n",
    "df_row_merged.loc[(df_row_merged['Player Name'] == 'Geoff Ogilvy') & (df_row_merged['Season'] == 2011), 'Label'] = float(1)\n",
    "df_row_merged.loc[(df_row_merged['Player Name'] == 'Tiger Woods') & (df_row_merged['Season'] == 2011), 'Label'] = float(1)\n",
    "df_row_merged.loc[(df_row_merged['Player Name'] == 'Angel Cabrera') & (df_row_merged['Season'] == 2011), 'Label'] = float(1)\n",
    "df_row_merged.loc[(df_row_merged['Player Name'] == 'Rory McIlroy') & (df_row_merged['Season'] == 2011), 'Label'] = float(1)"
   ]
  },
  {
   "cell_type": "code",
   "execution_count": 25,
   "metadata": {},
   "outputs": [],
   "source": [
    "#2012 Top Performers\n",
    "df_row_merged.loc[(df_row_merged['Player Name'] == 'Bubba Watson') & (df_row_merged['Season'] == 2012), 'Label'] = float(1)\n",
    "df_row_merged.loc[(df_row_merged['Player Name'] == 'Louis Oosthuizen') & (df_row_merged['Season'] == 2012), 'Label'] = float(1)\n",
    "df_row_merged.loc[(df_row_merged['Player Name'] == 'Peter Hanson') & (df_row_merged['Season'] == 2012), 'Label'] = float(1)\n",
    "df_row_merged.loc[(df_row_merged['Player Name'] == 'Matt Kuchar') & (df_row_merged['Season'] == 2012), 'Label'] = float(1)\n",
    "df_row_merged.loc[(df_row_merged['Player Name'] == 'Phil Mickelson') & (df_row_merged['Season'] == 2012), 'Label'] = float(1)\n",
    "df_row_merged.loc[(df_row_merged['Player Name'] == 'Lee Westwood') & (df_row_merged['Season'] == 2012), 'Label'] = float(1)"
   ]
  },
  {
   "cell_type": "code",
   "execution_count": 26,
   "metadata": {},
   "outputs": [],
   "source": [
    "#2013 Top Performers\n",
    "df_row_merged.loc[(df_row_merged['Player Name'] == 'Adam Scott') & (df_row_merged['Season'] == 2013), 'Label'] = float(1)\n",
    "df_row_merged.loc[(df_row_merged['Player Name'] == 'Angel Cabrera') & (df_row_merged['Season'] == 2013), 'Label'] = float(1)\n",
    "df_row_merged.loc[(df_row_merged['Player Name'] == 'Jason Day') & (df_row_merged['Season'] == 2013), 'Label'] = float(1)\n",
    "df_row_merged.loc[(df_row_merged['Player Name'] == 'Marc Leishman') & (df_row_merged['Season'] == 2013), 'Label'] = float(1)\n",
    "df_row_merged.loc[(df_row_merged['Player Name'] == 'Tiger Woods') & (df_row_merged['Season'] == 2013), 'Label'] = float(1)\n",
    "df_row_merged.loc[(df_row_merged['Player Name'] == 'Thorbjorn Olesen') & (df_row_merged['Season'] == 2013), 'Label'] = float(1)\n",
    "df_row_merged.loc[(df_row_merged['Player Name'] == 'Brandt Snedeker') & (df_row_merged['Season'] == 2013), 'Label'] = float(1)"
   ]
  },
  {
   "cell_type": "code",
   "execution_count": 27,
   "metadata": {},
   "outputs": [],
   "source": [
    "#2014 Top Performaers\n",
    "df_row_merged.loc[(df_row_merged['Player Name'] == 'Bubba Watson') & (df_row_merged['Season'] == 2014), 'Label'] = float(1)\n",
    "df_row_merged.loc[(df_row_merged['Player Name'] == 'Jonas Blixt') & (df_row_merged['Season'] == 2014), 'Label'] = float(1)\n",
    "df_row_merged.loc[(df_row_merged['Player Name'] == 'Jordan Spieth') & (df_row_merged['Season'] == 2014), 'Label'] = float(1)\n",
    "df_row_merged.loc[(df_row_merged['Player Name'] == 'Jonas Blixt') & (df_row_merged['Season'] == 2014), 'Label'] = float(1)\n",
    "df_row_merged.loc[(df_row_merged['Player Name'] == 'Miguel Angel Jimenez') & (df_row_merged['Season'] == 2014), 'Label'] = float(1)\n",
    "df_row_merged.loc[(df_row_merged['Player Name'] == 'Rickie Fowler') & (df_row_merged['Season'] == 2014), 'Label'] = float(1)\n",
    "df_row_merged.loc[(df_row_merged['Player Name'] == 'Matt Kuchar') & (df_row_merged['Season'] == 2014), 'Label'] = float(1)"
   ]
  },
  {
   "cell_type": "code",
   "execution_count": 28,
   "metadata": {},
   "outputs": [],
   "source": [
    "#2015 Top Performers\n",
    "df_row_merged.loc[(df_row_merged['Player Name'] == 'Jordan Spieth') & (df_row_merged['Season'] == 2015), 'Label'] = float(1)\n",
    "df_row_merged.loc[(df_row_merged['Player Name'] == 'Phil Mickelson') & (df_row_merged['Season'] == 2015), 'Label'] = float(1)\n",
    "df_row_merged.loc[(df_row_merged['Player Name'] == 'Justin Rose') & (df_row_merged['Season'] == 2015), 'Label'] = float(1)\n",
    "df_row_merged.loc[(df_row_merged['Player Name'] == 'Rory McIlroy') & (df_row_merged['Season'] == 2015), 'Label'] = float(1)\n",
    "df_row_merged.loc[(df_row_merged['Player Name'] == 'Hideki Matsuyama') & (df_row_merged['Season'] == 2015), 'Label'] = float(1)\n",
    "df_row_merged.loc[(df_row_merged['Player Name'] == 'Paul Casey') & (df_row_merged['Season'] == 2015), 'Label'] = float(1)\n",
    "df_row_merged.loc[(df_row_merged['Player Name'] == 'Dustin Johnson') & (df_row_merged['Season'] == 2015), 'Label'] = float(1)\n",
    "df_row_merged.loc[(df_row_merged['Player Name'] == 'Ian Poulter') & (df_row_merged['Season'] == 2015), 'Label'] = float(1)"
   ]
  },
  {
   "cell_type": "code",
   "execution_count": 29,
   "metadata": {},
   "outputs": [],
   "source": [
    "#2016 Top Performers\n",
    "df_row_merged.loc[(df_row_merged['Player Name'] == 'Danny Willett') & (df_row_merged['Season'] == 2016), 'Label'] = float(1)\n",
    "df_row_merged.loc[(df_row_merged['Player Name'] == 'Jordan Spieth') & (df_row_merged['Season'] == 2016), 'Label'] = float(1)\n",
    "df_row_merged.loc[(df_row_merged['Player Name'] == 'Lee Westwood') & (df_row_merged['Season'] == 2016), 'Label'] = float(1)\n",
    "df_row_merged.loc[(df_row_merged['Player Name'] == 'Paul Casey') & (df_row_merged['Season'] == 2016), 'Label'] = float(1)\n",
    "df_row_merged.loc[(df_row_merged['Player Name'] == 'J.B. Holmes') & (df_row_merged['Season'] == 2016), 'Label'] = float(1)\n",
    "df_row_merged.loc[(df_row_merged['Player Name'] == 'Dustin Johnson') & (df_row_merged['Season'] == 2016), 'Label'] = float(1)\n",
    "df_row_merged.loc[(df_row_merged['Player Name'] == 'Hideki Matsuyama') & (df_row_merged['Season'] == 2016), 'Label'] = float(1)\n",
    "df_row_merged.loc[(df_row_merged['Player Name'] == 'Jason Day') & (df_row_merged['Season'] == 2016), 'Label'] = float(1)\n",
    "df_row_merged.loc[(df_row_merged['Player Name'] == 'Bernhard Langer') & (df_row_merged['Season'] == 2016), 'Label'] = float(1)\n",
    "df_row_merged.loc[(df_row_merged['Player Name'] == 'Smylie Kaufman') & (df_row_merged['Season'] == 2016), 'Label'] = float(1)"
   ]
  },
  {
   "cell_type": "code",
   "execution_count": 30,
   "metadata": {},
   "outputs": [],
   "source": [
    "#2017 Top Performers\n",
    "df_row_merged.loc[(df_row_merged['Player Name'] == 'Sergio Garcia') & (df_row_merged['Season'] == 2017), 'Label'] = float(1)\n",
    "df_row_merged.loc[(df_row_merged['Player Name'] == 'Justin Rose') & (df_row_merged['Season'] == 2017), 'Label'] = float(1)\n",
    "df_row_merged.loc[(df_row_merged['Player Name'] == 'Charl Schwartzel') & (df_row_merged['Season'] == 2017), 'Label'] = float(1)\n",
    "df_row_merged.loc[(df_row_merged['Player Name'] == 'Matt Kuchar') & (df_row_merged['Season'] == 2017), 'Label'] = float(1)\n",
    "df_row_merged.loc[(df_row_merged['Player Name'] == 'Thomas Pieters') & (df_row_merged['Season'] == 2017), 'Label'] = float(1)\n",
    "df_row_merged.loc[(df_row_merged['Player Name'] == 'Rickie Fowler') & (df_row_merged['Season'] == 2017), 'Label'] = float(1)\n",
    "df_row_merged.loc[(df_row_merged['Player Name'] == 'Jordan Spieth') & (df_row_merged['Season'] == 2017), 'Label'] = float(1)"
   ]
  },
  {
   "cell_type": "code",
   "execution_count": 31,
   "metadata": {},
   "outputs": [],
   "source": [
    "#2018 Top Performers\n",
    "df_row_merged.loc[(df_row_merged['Player Name'] == 'Patrick Reed') & (df_row_merged['Season'] == 2018), 'Label'] = float(1)\n",
    "df_row_merged.loc[(df_row_merged['Player Name'] == 'Rickie Fowler') & (df_row_merged['Season'] == 2018), 'Label'] = float(1)\n",
    "df_row_merged.loc[(df_row_merged['Player Name'] == 'Jordan Spieth') & (df_row_merged['Season'] == 2018), 'Label'] = float(1)\n",
    "df_row_merged.loc[(df_row_merged['Player Name'] == 'Jon Rahm') & (df_row_merged['Season'] == 2018), 'Label'] = float(1)\n",
    "df_row_merged.loc[(df_row_merged['Player Name'] == 'Rory McIlroy') & (df_row_merged['Season'] == 2018), 'Label'] = float(1)\n",
    "df_row_merged.loc[(df_row_merged['Player Name'] == 'Cameron Smith') & (df_row_merged['Season'] == 2018), 'Label'] = float(1)\n",
    "df_row_merged.loc[(df_row_merged['Player Name'] == 'Henrik Stenson') & (df_row_merged['Season'] == 2018), 'Label'] = float(1)\n",
    "df_row_merged.loc[(df_row_merged['Player Name'] == 'Bubba Watson') & (df_row_merged['Season'] == 2018), 'Label'] = float(1)"
   ]
  },
  {
   "cell_type": "code",
   "execution_count": 32,
   "metadata": {},
   "outputs": [],
   "source": [
    "#2019 Top Performers\n",
    "df_row_merged.loc[(df_row_merged['Player Name'] == 'Tiger Woods') & (df_row_merged['Season'] == 2019), 'Label'] = float(1)\n",
    "df_row_merged.loc[(df_row_merged['Player Name'] == 'Dustin Johnson') & (df_row_merged['Season'] == 2019), 'Label'] = float(1)\n",
    "df_row_merged.loc[(df_row_merged['Player Name'] == 'Brooks Koepka') & (df_row_merged['Season'] == 2019), 'Label'] = float(1)\n",
    "df_row_merged.loc[(df_row_merged['Player Name'] == 'Xander Schauffele') & (df_row_merged['Season'] == 2019), 'Label'] = float(1)\n",
    "df_row_merged.loc[(df_row_merged['Player Name'] == 'Jason Day') & (df_row_merged['Season'] == 2019), 'Label'] = float(1)\n",
    "df_row_merged.loc[(df_row_merged['Player Name'] == 'Tony Finau') & (df_row_merged['Season'] == 2019), 'Label'] = float(1)\n",
    "df_row_merged.loc[(df_row_merged['Player Name'] == 'Francesco Molinari') & (df_row_merged['Season'] == 2019), 'Label'] = float(1)\n",
    "df_row_merged.loc[(df_row_merged['Player Name'] == 'Web Simpson') & (df_row_merged['Season'] == 2019), 'Label'] = float(1)\n",
    "df_row_merged.loc[(df_row_merged['Player Name'] == 'Patrick Cantlay') & (df_row_merged['Season'] == 2019), 'Label'] = float(1)\n",
    "df_row_merged.loc[(df_row_merged['Player Name'] == 'Ricky Fowler') & (df_row_merged['Season'] == 2019), 'Label'] = float(1)\n",
    "df_row_merged.loc[(df_row_merged['Player Name'] == 'John Rahm') & (df_row_merged['Season'] == 2019), 'Label'] = float(1)"
   ]
  },
  {
   "cell_type": "code",
   "execution_count": 33,
   "metadata": {},
   "outputs": [],
   "source": [
    "df_na= df_row_merged.fillna(0)"
   ]
  },
  {
   "cell_type": "code",
   "execution_count": 34,
   "metadata": {},
   "outputs": [],
   "source": [
    "df_masters = df_na.drop(columns=['Player Name', 'Season'])"
   ]
  },
  {
   "cell_type": "code",
   "execution_count": 35,
   "metadata": {},
   "outputs": [],
   "source": [
    "y = df_masters[\"Label\"].values\n",
    "X = df_masters.loc[ : ,df_masters.columns != 'Label']"
   ]
  },
  {
   "cell_type": "code",
   "execution_count": 36,
   "metadata": {},
   "outputs": [
    {
     "data": {
      "text/html": [
       "<div>\n",
       "<style scoped>\n",
       "    .dataframe tbody tr th:only-of-type {\n",
       "        vertical-align: middle;\n",
       "    }\n",
       "\n",
       "    .dataframe tbody tr th {\n",
       "        vertical-align: top;\n",
       "    }\n",
       "\n",
       "    .dataframe thead th {\n",
       "        text-align: right;\n",
       "    }\n",
       "</style>\n",
       "<table border=\"1\" class=\"dataframe\">\n",
       "  <thead>\n",
       "    <tr style=\"text-align: right;\">\n",
       "      <th></th>\n",
       "      <th>Accuracy Rating - (RATING)</th>\n",
       "      <th>Scoring Rating - (RATING)</th>\n",
       "      <th>Power Rating - (RATING)</th>\n",
       "      <th>Putting Rating - (RATING)</th>\n",
       "      <th>Short Game Rating - (RATING)</th>\n",
       "    </tr>\n",
       "  </thead>\n",
       "  <tbody>\n",
       "    <tr>\n",
       "      <td>Accuracy Rating - (RATING)</td>\n",
       "      <td>1.000000</td>\n",
       "      <td>0.400185</td>\n",
       "      <td>-0.009452</td>\n",
       "      <td>-0.137988</td>\n",
       "      <td>0.094839</td>\n",
       "    </tr>\n",
       "    <tr>\n",
       "      <td>Scoring Rating - (RATING)</td>\n",
       "      <td>0.400185</td>\n",
       "      <td>1.000000</td>\n",
       "      <td>0.192337</td>\n",
       "      <td>0.247150</td>\n",
       "      <td>0.247227</td>\n",
       "    </tr>\n",
       "    <tr>\n",
       "      <td>Power Rating - (RATING)</td>\n",
       "      <td>-0.009452</td>\n",
       "      <td>0.192337</td>\n",
       "      <td>1.000000</td>\n",
       "      <td>-0.090387</td>\n",
       "      <td>-0.107848</td>\n",
       "    </tr>\n",
       "    <tr>\n",
       "      <td>Putting Rating - (RATING)</td>\n",
       "      <td>-0.137988</td>\n",
       "      <td>0.247150</td>\n",
       "      <td>-0.090387</td>\n",
       "      <td>1.000000</td>\n",
       "      <td>0.184056</td>\n",
       "    </tr>\n",
       "    <tr>\n",
       "      <td>Short Game Rating - (RATING)</td>\n",
       "      <td>0.094839</td>\n",
       "      <td>0.247227</td>\n",
       "      <td>-0.107848</td>\n",
       "      <td>0.184056</td>\n",
       "      <td>1.000000</td>\n",
       "    </tr>\n",
       "  </tbody>\n",
       "</table>\n",
       "</div>"
      ],
      "text/plain": [
       "                              Accuracy Rating - (RATING)  \\\n",
       "Accuracy Rating - (RATING)                      1.000000   \n",
       "Scoring Rating - (RATING)                       0.400185   \n",
       "Power Rating - (RATING)                        -0.009452   \n",
       "Putting Rating - (RATING)                      -0.137988   \n",
       "Short Game Rating - (RATING)                    0.094839   \n",
       "\n",
       "                              Scoring Rating - (RATING)  \\\n",
       "Accuracy Rating - (RATING)                     0.400185   \n",
       "Scoring Rating - (RATING)                      1.000000   \n",
       "Power Rating - (RATING)                        0.192337   \n",
       "Putting Rating - (RATING)                      0.247150   \n",
       "Short Game Rating - (RATING)                   0.247227   \n",
       "\n",
       "                              Power Rating - (RATING)  \\\n",
       "Accuracy Rating - (RATING)                  -0.009452   \n",
       "Scoring Rating - (RATING)                    0.192337   \n",
       "Power Rating - (RATING)                      1.000000   \n",
       "Putting Rating - (RATING)                   -0.090387   \n",
       "Short Game Rating - (RATING)                -0.107848   \n",
       "\n",
       "                              Putting Rating - (RATING)  \\\n",
       "Accuracy Rating - (RATING)                    -0.137988   \n",
       "Scoring Rating - (RATING)                      0.247150   \n",
       "Power Rating - (RATING)                       -0.090387   \n",
       "Putting Rating - (RATING)                      1.000000   \n",
       "Short Game Rating - (RATING)                   0.184056   \n",
       "\n",
       "                              Short Game Rating - (RATING)  \n",
       "Accuracy Rating - (RATING)                        0.094839  \n",
       "Scoring Rating - (RATING)                         0.247227  \n",
       "Power Rating - (RATING)                          -0.107848  \n",
       "Putting Rating - (RATING)                         0.184056  \n",
       "Short Game Rating - (RATING)                      1.000000  "
      ]
     },
     "execution_count": 36,
     "metadata": {},
     "output_type": "execute_result"
    }
   ],
   "source": [
    "X.corr(method='spearman', min_periods=1)"
   ]
  },
  {
   "cell_type": "markdown",
   "metadata": {},
   "source": [
    "### Split Data for Training and Testing"
   ]
  },
  {
   "cell_type": "code",
   "execution_count": 37,
   "metadata": {},
   "outputs": [],
   "source": [
    "X_train, X_test, y_train, y_test = train_test_split(X,y, random_state=42)"
   ]
  },
  {
   "cell_type": "markdown",
   "metadata": {},
   "source": [
    "### Create and Fit Model"
   ]
  },
  {
   "cell_type": "code",
   "execution_count": 38,
   "metadata": {},
   "outputs": [
    {
     "data": {
      "text/plain": [
       "LogisticRegression(C=1.0, class_weight=None, dual=False, fit_intercept=True,\n",
       "                   intercept_scaling=1, l1_ratio=None, max_iter=100,\n",
       "                   multi_class='warn', n_jobs=None, penalty='l2',\n",
       "                   random_state=None, solver='warn', tol=0.0001, verbose=0,\n",
       "                   warm_start=False)"
      ]
     },
     "execution_count": 38,
     "metadata": {},
     "output_type": "execute_result"
    }
   ],
   "source": [
    "classifier=LogisticRegression()\n",
    "classifier.fit(X_train, y_train)"
   ]
  },
  {
   "cell_type": "markdown",
   "metadata": {},
   "source": [
    "### Score the Model"
   ]
  },
  {
   "cell_type": "code",
   "execution_count": 39,
   "metadata": {},
   "outputs": [
    {
     "name": "stdout",
     "output_type": "stream",
     "text": [
      "Training data score: 0.9939281942977825\n",
      "Test data score: 0.9960411718131433\n"
     ]
    }
   ],
   "source": [
    "print(f\"Training data score: {classifier.score(X_train, y_train)}\")\n",
    "print(f\"Test data score: {classifier.score(X_test, y_test.tolist())}\")"
   ]
  },
  {
   "cell_type": "markdown",
   "metadata": {},
   "source": [
    "### Make 10 Predictions"
   ]
  },
  {
   "cell_type": "code",
   "execution_count": 40,
   "metadata": {},
   "outputs": [
    {
     "name": "stdout",
     "output_type": "stream",
     "text": [
      "First 10 predictions: [0. 0. 0. 0. 0. 0. 0. 0. 0. 0.]\n",
      "First 10 predictions: [0.0, 0.0, 0.0, 0.0, 0.0, 0.0, 0.0, 0.0, 0.0, 0.0]\n"
     ]
    }
   ],
   "source": [
    "predictions = classifier.predict(X_test)\n",
    "\n",
    "print(f\"First 10 predictions: {predictions[:10]}\")\n",
    "print(f\"First 10 predictions: {y_test[:10].tolist()}\")\n",
    "\n",
    "# pd.DataFrame({\"predictions\": predictions, \"Actual\": y_test}).reset.index"
   ]
  },
  {
   "cell_type": "markdown",
   "metadata": {},
   "source": [
    "### Predict testing Data"
   ]
  },
  {
   "cell_type": "code",
   "execution_count": 41,
   "metadata": {},
   "outputs": [],
   "source": [
    "results = pd.DataFrame({\"predictions\": predictions, \"Actual\": y_test})"
   ]
  },
  {
   "cell_type": "code",
   "execution_count": 42,
   "metadata": {},
   "outputs": [
    {
     "data": {
      "text/plain": [
       "array([[1258,    0],\n",
       "       [   5,    0]], dtype=int64)"
      ]
     },
     "execution_count": 42,
     "metadata": {},
     "output_type": "execute_result"
    }
   ],
   "source": [
    "conf_matrix = metrics.confusion_matrix(y_test, predictions)\n",
    "\n",
    "conf_matrix"
   ]
  },
  {
   "cell_type": "code",
   "execution_count": 43,
   "metadata": {},
   "outputs": [
    {
     "data": {
      "image/png": "[encoded data removed]",
      "text/plain": [
       "<Figure size 842.4x595.44 with 2 Axes>"
      ]
     },
     "metadata": {},
     "output_type": "display_data"
    }
   ],
   "source": [
    "sns.heatmap(conf_matrix, annot=True,fmt='d')\n",
    "\n",
    "plt.show()"
   ]
  },
  {
   "cell_type": "code",
   "execution_count": 44,
   "metadata": {},
   "outputs": [
    {
     "name": "stdout",
     "output_type": "stream",
     "text": [
      "              precision    recall  f1-score   support\n",
      "\n",
      "         0.0       1.00      1.00      1.00      1258\n",
      "         1.0       0.00      0.00      0.00         5\n",
      "\n",
      "    accuracy                           1.00      1263\n",
      "   macro avg       0.50      0.50      0.50      1263\n",
      "weighted avg       0.99      1.00      0.99      1263\n",
      "\n"
     ]
    }
   ],
   "source": [
    "print(metrics.classification_report(y_test, predictions))"
   ]
  },
  {
   "cell_type": "code",
   "execution_count": 45,
   "metadata": {},
   "outputs": [
    {
     "data": {
      "text/plain": [
       "0.9986141358146902"
      ]
     },
     "execution_count": 45,
     "metadata": {},
     "output_type": "execute_result"
    }
   ],
   "source": [
    "rf = RandomForestClassifier(n_estimators=200)\n",
    "rf = rf.fit(X, y)\n",
    "rf.score(X, y)"
   ]
  },
  {
   "cell_type": "code",
   "execution_count": 46,
   "metadata": {},
   "outputs": [
    {
     "data": {
      "text/plain": [
       "array([0.17500543, 0.15548854, 0.30466649, 0.16782304, 0.1970165 ])"
      ]
     },
     "execution_count": 46,
     "metadata": {},
     "output_type": "execute_result"
    }
   ],
   "source": [
    "importances = rf.feature_importances_\n",
    "importances"
   ]
  },
  {
   "cell_type": "code",
   "execution_count": null,
   "metadata": {},
   "outputs": [],
   "source": []
  }
 ],
 "metadata": {
  "kernelspec": {
   "display_name": "Python 3",
   "language": "python",
   "name": "python3"
  },
  "language_info": {
   "codemirror_mode": {
    "name": "ipython",
    "version": 3
   },
   "file_extension": ".py",
   "mimetype": "text/x-python",
   "name": "python",
   "nbconvert_exporter": "python",
   "pygments_lexer": "ipython3",
   "version": "3.7.4"
  }
 },
 "nbformat": 4,
 "nbformat_minor": 4
}
